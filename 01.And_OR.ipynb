{
 "cells": [
  {
   "cell_type": "markdown",
   "metadata": {
    "colab_type": "text",
    "id": "H6gtb0uFUAjm"
   },
   "source": [
    "AND problem"
   ]
  },
  {
   "cell_type": "code",
   "execution_count": 1,
   "metadata": {
    "colab": {
     "base_uri": "https://localhost:8080/",
     "height": 283
    },
    "colab_type": "code",
    "executionInfo": {
     "elapsed": 2532,
     "status": "ok",
     "timestamp": 1579411642377,
     "user": {
      "displayName": "김영진",
      "photoUrl": "https://lh3.googleusercontent.com/a-/AAuE7mBqR41G9XnYH3XCALelFEG-6zz3qUAzPhR1M4qvAw=s64",
      "userId": "03470999733606021548"
     },
     "user_tz": -540
    },
    "id": "FCfVBFn6UF3k",
    "outputId": "8468822a-c878-4d36-9880-d0310d60fab1"
   },
   "outputs": [
    {
     "data": {
      "text/plain": [
       "<matplotlib.lines.Line2D at 0x7febc0982d10>"
      ]
     },
     "execution_count": 1,
     "metadata": {},
     "output_type": "execute_result"
    },
    {
     "data": {
      "image/png": "[encoded data removed]",
      "text/plain": [
       "<Figure size 432x288 with 1 Axes>"
      ]
     },
     "metadata": {
      "needs_background": "light"
     },
     "output_type": "display_data"
    }
   ],
   "source": [
    "import numpy as np\n",
    "import matplotlib.pyplot as plt\n",
    "import math\n",
    "\n",
    "#input\n",
    "x=np.array([[1,1],[1,-1],[-1,-1],[-1,1]])\n",
    "#output\n",
    "y=np.array([[1],[0],[0],[0]]) #labels of each input\n",
    "\n",
    "# plot the training data\n",
    "fig, ax= plt.subplots()\n",
    "for i in range(y.shape[0]):\n",
    "  if y[i][0]==0:\n",
    "    marker='ro'\n",
    "  else:\n",
    "    marker='bo'\n",
    "  ax.plot(x[i][0],x[i][1],marker)\n",
    "ax.axhline(y=0,color='k')\n",
    "ax.axvline(x=0,color='k')"
   ]
  },
  {
   "cell_type": "code",
   "execution_count": 2,
   "metadata": {
    "colab": {
     "base_uri": "https://localhost:8080/",
     "height": 71
    },
    "colab_type": "code",
    "executionInfo": {
     "elapsed": 1928,
     "status": "ok",
     "timestamp": 1579411646551,
     "user": {
      "displayName": "김영진",
      "photoUrl": "https://lh3.googleusercontent.com/a-/AAuE7mBqR41G9XnYH3XCALelFEG-6zz3qUAzPhR1M4qvAw=s64",
      "userId": "03470999733606021548"
     },
     "user_tz": -540
    },
    "id": "0v1p5vdaWnx4",
    "outputId": "71c29034-7e3a-4842-e701-a37905a4cfa7"
   },
   "outputs": [
    {
     "name": "stdout",
     "output_type": "stream",
     "text": [
      "[[0.74340919]\n",
      " [0.52170039]]\n",
      "[[0.31090431]]\n"
     ]
    }
   ],
   "source": [
    "epoch=5000 # number of training iterations, how many times do back propagation?\n",
    "learning_rate=.1\n",
    "\n",
    "# dimension of each layer\n",
    "d_in=x.shape[1] #number of features in the input dataset\n",
    "d_out=1 #output layer y.shape[0]\n",
    "\n",
    "#weight and bias initialization\n",
    "wout=np.random.uniform(size=(d_in,1))\n",
    "bout=np.random.uniform(size=(1,d_out))\n",
    "print(wout)\n",
    "print(bout)"
   ]
  },
  {
   "cell_type": "code",
   "execution_count": 3,
   "metadata": {
    "colab": {},
    "colab_type": "code",
    "id": "wrXtbbbOaJjl"
   },
   "outputs": [],
   "source": [
    "def sigmoid(x):\n",
    "  return 1/(1+np.exp(x*-1))"
   ]
  },
  {
   "cell_type": "code",
   "execution_count": 4,
   "metadata": {
    "colab": {},
    "colab_type": "code",
    "id": "DFnAF9mQeAHH"
   },
   "outputs": [],
   "source": [
    "def derivate_sigmoid(x):\n",
    "  return sigmoid(x)*(1-sigmoid(x))"
   ]
  },
  {
   "cell_type": "code",
   "execution_count": 5,
   "metadata": {
    "colab": {
     "base_uri": "https://localhost:8080/",
     "height": 197
    },
    "colab_type": "code",
    "executionInfo": {
     "elapsed": 1352,
     "status": "ok",
     "timestamp": 1579411651980,
     "user": {
      "displayName": "김영진",
      "photoUrl": "https://lh3.googleusercontent.com/a-/AAuE7mBqR41G9XnYH3XCALelFEG-6zz3qUAzPhR1M4qvAw=s64",
      "userId": "03470999733606021548"
     },
     "user_tz": -540
    },
    "id": "S4_uSh46YdTR",
    "outputId": "6941a4b8-b01d-4999-9650-ee8cb13933e9"
   },
   "outputs": [
    {
     "name": "stdout",
     "output_type": "stream",
     "text": [
      "Epoch 0 : 0.7764677765064085\n",
      "Epoch 500 : 0.01811715706317632\n",
      "Epoch 1000 : 0.0053122096049321435\n",
      "Epoch 1500 : 0.002471154471440379\n",
      "Epoch 2000 : 0.0014174978071232977\n",
      "Epoch 2500 : 0.0009164677657386284\n",
      "Epoch 3000 : 0.0006402032053208753\n",
      "Epoch 3500 : 0.0004720888046358942\n",
      "Epoch 4000 : 0.0003623168404878226\n",
      "Epoch 4500 : 0.00028674475953896294\n"
     ]
    }
   ],
   "source": [
    "for i in range(epoch):\n",
    "  #forward pass\n",
    "  y_pred=sigmoid(x.dot(wout)+bout) #   f(Wx+b) = y_pred  --> Score\n",
    "  \n",
    "  #compute and print loss\n",
    "  loss=np.square(y-y_pred) # not inclue 1/2\n",
    "  if i % 500 == 0:\n",
    "    print('Epoch', i, ':', loss.sum())\n",
    "  \n",
    "  #Backpropagation to compute gradients\n",
    "  grad_y_pred = (y-y_pred)*derivate_sigmoid(y_pred)\n",
    "  grad_wout= x.T.dot(grad_y_pred)\n",
    "  grad_bout = np.sum(grad_y_pred, axis=0, keepdims=True)\n",
    "  #update weights and biases\n",
    "  wout += grad_wout*learning_rate\n",
    "  bout += grad_bout*learning_rate"
   ]
  },
  {
   "cell_type": "code",
   "execution_count": 6,
   "metadata": {
    "colab": {
     "base_uri": "https://localhost:8080/",
     "height": 89
    },
    "colab_type": "code",
    "executionInfo": {
     "elapsed": 1752,
     "status": "ok",
     "timestamp": 1579411711375,
     "user": {
      "displayName": "김영진",
      "photoUrl": "https://lh3.googleusercontent.com/a-/AAuE7mBqR41G9XnYH3XCALelFEG-6zz3qUAzPhR1M4qvAw=s64",
      "userId": "03470999733606021548"
     },
     "user_tz": -540
    },
    "id": "UTDzbdauRZlF",
    "outputId": "f702eb06-7350-46eb-8e91-99ca0db54370"
   },
   "outputs": [
    {
     "data": {
      "text/plain": [
       "array([[ 2.00816623e-03],\n",
       "       [-2.00986104e-03],\n",
       "       [-1.68660382e-07],\n",
       "       [-2.00986075e-03]])"
      ]
     },
     "execution_count": 6,
     "metadata": {},
     "output_type": "execute_result"
    }
   ],
   "source": [
    "grad_y_pred"
   ]
  },
  {
   "cell_type": "code",
   "execution_count": 7,
   "metadata": {
    "colab": {
     "base_uri": "https://localhost:8080/",
     "height": 357
    },
    "colab_type": "code",
    "executionInfo": {
     "elapsed": 1204,
     "status": "ok",
     "timestamp": 1560844394200,
     "user": {
      "displayName": "김영진",
      "photoUrl": "https://lh5.googleusercontent.com/-e2bjUOJ7_gY/AAAAAAAAAAI/AAAAAAAACKk/Ltm3uS4Ro_Y/s64/photo.jpg",
      "userId": "03470999733606021548"
     },
     "user_tz": -540
    },
    "id": "jGXKUfUNaT6l",
    "outputId": "6ccf3dcc-7841-4ec4-e907-d1fcb7e17650"
   },
   "outputs": [
    {
     "name": "stdout",
     "output_type": "stream",
     "text": [
      "Input\n",
      "[[ 1  1]\n",
      " [ 1 -1]\n",
      " [-1 -1]\n",
      " [-1  1]]\n",
      "Label\n",
      "[[1]\n",
      " [0]\n",
      " [0]\n",
      " [0]]\n",
      "Output\n",
      "[[9.89833808e-01]\n",
      " [8.03957407e-03]\n",
      " [6.74641527e-07]\n",
      " [8.03957290e-03]]\n",
      "Weight\n",
      "[[4.69708912]\n",
      " [4.69708905]]\n",
      "Bias\n",
      "[[-4.81550835]]\n"
     ]
    }
   ],
   "source": [
    "print('Input')\n",
    "print(x)\n",
    "print('Label')\n",
    "print(y)\n",
    "print('Output')\n",
    "print(y_pred)\n",
    "print('Weight')\n",
    "print(wout)\n",
    "print('Bias')\n",
    "print(bout)"
   ]
  },
  {
   "cell_type": "markdown",
   "metadata": {
    "colab_type": "text",
    "id": "Amt5DkzhTKWX"
   },
   "source": [
    "OR Problem"
   ]
  },
  {
   "cell_type": "code",
   "execution_count": 8,
   "metadata": {
    "colab": {
     "base_uri": "https://localhost:8080/",
     "height": 282
    },
    "colab_type": "code",
    "executionInfo": {
     "elapsed": 2093,
     "status": "ok",
     "timestamp": 1579162137140,
     "user": {
      "displayName": "김영진",
      "photoUrl": "https://lh3.googleusercontent.com/a-/AAuE7mBqR41G9XnYH3XCALelFEG-6zz3qUAzPhR1M4qvAw=s64",
      "userId": "03470999733606021548"
     },
     "user_tz": -540
    },
    "id": "dWnl9Im6S7t9",
    "outputId": "64987664-7e27-49e0-8850-e747d86a9302"
   },
   "outputs": [
    {
     "data": {
      "text/plain": [
       "<matplotlib.lines.Line2D at 0x7febc08e9c50>"
      ]
     },
     "execution_count": 8,
     "metadata": {},
     "output_type": "execute_result"
    },
    {
     "data": {
      "image/png": "[encoded data removed]",
      "text/plain": [
       "<Figure size 432x288 with 1 Axes>"
      ]
     },
     "metadata": {
      "needs_background": "light"
     },
     "output_type": "display_data"
    }
   ],
   "source": [
    "import numpy as np\n",
    "import matplotlib.pyplot as plt\n",
    "import math\n",
    "\n",
    "#input\n",
    "x=np.array([[1,1],[1,-1],[-1,-1],[-1,1]])\n",
    "#output\n",
    "y=np.array([[1],[1],[0],[1]]) #labels of each input\n",
    "\n",
    "# plot the training data\n",
    "fig, ax= plt.subplots()\n",
    "for i in range(y.shape[0]):\n",
    "  if y[i][0]==0:\n",
    "    marker='ro'\n",
    "  else:\n",
    "    marker='bo'\n",
    "  ax.plot(x[i][0],x[i][1],marker)\n",
    "ax.axhline(y=0,color='k')\n",
    "ax.axvline(x=0,color='k')"
   ]
  },
  {
   "cell_type": "code",
   "execution_count": 9,
   "metadata": {
    "colab": {
     "base_uri": "https://localhost:8080/",
     "height": 68
    },
    "colab_type": "code",
    "executionInfo": {
     "elapsed": 1288,
     "status": "ok",
     "timestamp": 1579162139229,
     "user": {
      "displayName": "김영진",
      "photoUrl": "https://lh3.googleusercontent.com/a-/AAuE7mBqR41G9XnYH3XCALelFEG-6zz3qUAzPhR1M4qvAw=s64",
      "userId": "03470999733606021548"
     },
     "user_tz": -540
    },
    "id": "18jX4IbzTFaQ",
    "outputId": "3725d17d-68b3-45cc-af31-8ddaa1ce9b22"
   },
   "outputs": [
    {
     "name": "stdout",
     "output_type": "stream",
     "text": [
      "[[0.28193921]\n",
      " [0.00703821]]\n",
      "[[0.85664583]]\n"
     ]
    }
   ],
   "source": [
    "epoch=5000 # number of training iterations, how many times do back propagation?\n",
    "learning_rate=.1\n",
    "\n",
    "# dimension of each layer\n",
    "d_in=x.shape[1] #number of features in the input dataset\n",
    "d_out=1 #output layer, y.shape[1]\n",
    "\n",
    "#weight and bias initialization\n",
    "wout=np.random.uniform(size=(d_in,1))\n",
    "bout=np.random.uniform(size=(1,d_out))\n",
    "print(wout)\n",
    "print(bout)"
   ]
  },
  {
   "cell_type": "code",
   "execution_count": 10,
   "metadata": {
    "colab": {
     "base_uri": "https://localhost:8080/",
     "height": 187
    },
    "colab_type": "code",
    "executionInfo": {
     "elapsed": 3376,
     "status": "ok",
     "timestamp": 1579162143488,
     "user": {
      "displayName": "김영진",
      "photoUrl": "https://lh3.googleusercontent.com/a-/AAuE7mBqR41G9XnYH3XCALelFEG-6zz3qUAzPhR1M4qvAw=s64",
      "userId": "03470999733606021548"
     },
     "user_tz": -540
    },
    "id": "aTU5hp2kTfb3",
    "outputId": "fbd79209-a6c4-497e-f76a-2df4a7080d01"
   },
   "outputs": [
    {
     "name": "stdout",
     "output_type": "stream",
     "text": [
      "Epoch 0 : 0.6535717443297602\n",
      "Epoch 500 : 0.019939058726332788\n",
      "Epoch 1000 : 0.005980045469503007\n",
      "Epoch 1500 : 0.0028100284512401355\n",
      "Epoch 2000 : 0.0016212084813381695\n",
      "Epoch 2500 : 0.0010521228240481554\n",
      "Epoch 3000 : 0.0007369204254861937\n",
      "Epoch 3500 : 0.0005444868950467125\n",
      "Epoch 4000 : 0.00041852464807054957\n",
      "Epoch 4500 : 0.0003316373782683791\n"
     ]
    }
   ],
   "source": [
    "for i in range(epoch):\n",
    "  #forward pass\n",
    "  y_pred=sigmoid(x.dot(wout)+bout)\n",
    "  \n",
    "  #compute and print loss\n",
    "  loss=np.square(y-y_pred) # not inclue 1/2\n",
    "  if i % 500 == 0:\n",
    "    print('Epoch', i, ':', loss.sum())\n",
    "  \n",
    "  #Backpropagation to compute gradients\n",
    "  grad_y_pred = (y-y_pred)*derivate_sigmoid(y_pred)\n",
    "  grad_wout= x.T.dot(grad_y_pred)\n",
    "  grad_bout = np.sum(grad_y_pred, axis=0, keepdims=True)\n",
    "  \n",
    "  #update weights and biases\n",
    "  wout += grad_wout*learning_rate\n",
    "  bout += grad_bout*learning_rate"
   ]
  },
  {
   "cell_type": "code",
   "execution_count": 11,
   "metadata": {
    "colab": {
     "base_uri": "https://localhost:8080/",
     "height": 377
    },
    "colab_type": "code",
    "executionInfo": {
     "elapsed": 837,
     "status": "ok",
     "timestamp": 1558592110575,
     "user": {
      "displayName": "김영진",
      "photoUrl": "https://lh5.googleusercontent.com/-e2bjUOJ7_gY/AAAAAAAAAAI/AAAAAAAACKk/Ltm3uS4Ro_Y/s64/photo.jpg",
      "userId": "03470999733606021548"
     },
     "user_tz": -540
    },
    "id": "zkzcXmnLThRN",
    "outputId": "04a2bd38-ff1f-4850-e042-72f2fde9c903"
   },
   "outputs": [
    {
     "name": "stdout",
     "output_type": "stream",
     "text": [
      "Input\n",
      "[[ 1  1]\n",
      " [ 1 -1]\n",
      " [-1 -1]\n",
      " [-1  1]]\n",
      "Label\n",
      "[[1]\n",
      " [1]\n",
      " [0]\n",
      " [1]]\n",
      "Output\n",
      "[[0.99999915]\n",
      " [0.98987179]\n",
      " [0.00800938]\n",
      " [0.98987179]]\n",
      "Weight\n",
      "[[4.70087557]\n",
      " [4.70087545]]\n",
      "Bias\n",
      "[[4.58245051]]\n"
     ]
    }
   ],
   "source": [
    "print('Input')\n",
    "print(x)\n",
    "print('Label')\n",
    "print(y)\n",
    "print('Output')\n",
    "print(y_pred)\n",
    "print('Weight')\n",
    "print(wout)\n",
    "print('Bias')\n",
    "print(bout)"
   ]
  },
  {
   "cell_type": "markdown",
   "metadata": {
    "colab_type": "text",
    "id": "ySYUhxMDTy5v"
   },
   "source": [
    "4x+4y+4=0  \n",
    "y=-x-1"
   ]
  },
  {
   "cell_type": "code",
   "execution_count": null,
   "metadata": {
    "colab": {},
    "colab_type": "code",
    "id": "tjiWHyGxTk55"
   },
   "outputs": [],
   "source": []
  },
  {
   "cell_type": "markdown",
   "metadata": {
    "colab_type": "text",
    "id": "005aMQ1kVOtc"
   },
   "source": [
    "XOR problem   \n",
    "with single layer perceptron"
   ]
  },
  {
   "cell_type": "code",
   "execution_count": 12,
   "metadata": {
    "colab": {
     "base_uri": "https://localhost:8080/",
     "height": 282
    },
    "colab_type": "code",
    "executionInfo": {
     "elapsed": 2666,
     "status": "ok",
     "timestamp": 1579164575167,
     "user": {
      "displayName": "김영진",
      "photoUrl": "https://lh3.googleusercontent.com/a-/AAuE7mBqR41G9XnYH3XCALelFEG-6zz3qUAzPhR1M4qvAw=s64",
      "userId": "03470999733606021548"
     },
     "user_tz": -540
    },
    "id": "eqErK1nEVPt6",
    "outputId": "60c6a696-5ea7-4254-8e6d-4c699e2a83e4"
   },
   "outputs": [
    {
     "data": {
      "text/plain": [
       "<matplotlib.lines.Line2D at 0x7febc08ab910>"
      ]
     },
     "execution_count": 12,
     "metadata": {},
     "output_type": "execute_result"
    },
    {
     "data": {
      "image/png": "[encoded data removed]",
      "text/plain": [
       "<Figure size 432x288 with 1 Axes>"
      ]
     },
     "metadata": {
      "needs_background": "light"
     },
     "output_type": "display_data"
    }
   ],
   "source": [
    "import numpy as np\n",
    "import matplotlib.pyplot as plt\n",
    "import math\n",
    "\n",
    "#input\n",
    "x=np.array([[1,1],[1,-1],[-1,-1],[-1,1]])\n",
    "#output\n",
    "y=np.array([[0],[1],[0],[1]]) #labels of each input\n",
    "\n",
    "# plot the training data\n",
    "fig, ax= plt.subplots()\n",
    "for i in range(y.shape[0]):\n",
    "  if y[i][0]==0:\n",
    "    marker='ro'\n",
    "  else:\n",
    "    marker='bo'\n",
    "  ax.plot(x[i][0],x[i][1],marker)\n",
    "ax.axhline(y=0,color='k')\n",
    "ax.axvline(x=0,color='k')"
   ]
  },
  {
   "cell_type": "code",
   "execution_count": 13,
   "metadata": {
    "colab": {
     "base_uri": "https://localhost:8080/",
     "height": 71
    },
    "colab_type": "code",
    "executionInfo": {
     "elapsed": 741,
     "status": "ok",
     "timestamp": 1558592233709,
     "user": {
      "displayName": "김영진",
      "photoUrl": "https://lh5.googleusercontent.com/-e2bjUOJ7_gY/AAAAAAAAAAI/AAAAAAAACKk/Ltm3uS4Ro_Y/s64/photo.jpg",
      "userId": "03470999733606021548"
     },
     "user_tz": -540
    },
    "id": "alj70GZyVdCe",
    "outputId": "25f6113d-71a7-4c8c-b96e-32d421813428"
   },
   "outputs": [
    {
     "name": "stdout",
     "output_type": "stream",
     "text": [
      "[[0.05442986]\n",
      " [0.61454818]]\n",
      "[[0.9612749]]\n"
     ]
    }
   ],
   "source": [
    "epoch=5000 # number of training iterations, how many times do back propagation?\n",
    "learning_rate=.1\n",
    "\n",
    "# dimension of each layer\n",
    "d_in=x.shape[1] #number of features in the input dataset\n",
    "d_out=1 #output layer, y.shape[1]\n",
    "\n",
    "#weight and bias initialization\n",
    "wout=np.random.uniform(size=(d_in,1))\n",
    "bout=np.random.uniform(size=(1,d_out))\n",
    "print(wout)\n",
    "print(bout)"
   ]
  },
  {
   "cell_type": "code",
   "execution_count": 14,
   "metadata": {
    "colab": {
     "base_uri": "https://localhost:8080/",
     "height": 197
    },
    "colab_type": "code",
    "executionInfo": {
     "elapsed": 772,
     "status": "ok",
     "timestamp": 1558592272381,
     "user": {
      "displayName": "김영진",
      "photoUrl": "https://lh5.googleusercontent.com/-e2bjUOJ7_gY/AAAAAAAAAAI/AAAAAAAACKk/Ltm3uS4Ro_Y/s64/photo.jpg",
      "userId": "03470999733606021548"
     },
     "user_tz": -540
    },
    "id": "AWr4ygcMVh3f",
    "outputId": "8e2f8cc0-5c3c-426e-fd5e-ee42d082b52f"
   },
   "outputs": [
    {
     "name": "stdout",
     "output_type": "stream",
     "text": [
      "Epoch 0 : 1.2200222104768992\n",
      "Epoch 500 : 1.00000000010782\n",
      "Epoch 1000 : 0.9999999999999999\n",
      "Epoch 1500 : 0.9999999999999999\n",
      "Epoch 2000 : 1.0\n",
      "Epoch 2500 : 1.0\n",
      "Epoch 3000 : 1.0\n",
      "Epoch 3500 : 1.0\n",
      "Epoch 4000 : 1.0\n",
      "Epoch 4500 : 1.0\n"
     ]
    }
   ],
   "source": [
    "for i in range(epoch):\n",
    "  #forward pass\n",
    "  y_pred=sigmoid(x.dot(wout)+bout)\n",
    "  \n",
    "  #compute and print loss\n",
    "  loss=np.square(y-y_pred) # not inclue 1/2 for faster calculation\n",
    "  if i % 500 == 0:\n",
    "    print('Epoch', i, ':', loss.sum())\n",
    "  \n",
    "  #Backpropagation to compute gradients\n",
    "  grad_y_pred = (y-y_pred)*derivate_sigmoid(y_pred)\n",
    "  grad_wout= x.T.dot(grad_y_pred)\n",
    "  grad_bout = np.sum(grad_y_pred, axis=0, keepdims=True)\n",
    "  \n",
    "  #update weights and biases\n",
    "  wout += grad_wout*learning_rate\n",
    "  bout += grad_bout*learning_rate"
   ]
  },
  {
   "cell_type": "code",
   "execution_count": 15,
   "metadata": {
    "colab": {
     "base_uri": "https://localhost:8080/",
     "height": 377
    },
    "colab_type": "code",
    "executionInfo": {
     "elapsed": 842,
     "status": "ok",
     "timestamp": 1558592289870,
     "user": {
      "displayName": "김영진",
      "photoUrl": "https://lh5.googleusercontent.com/-e2bjUOJ7_gY/AAAAAAAAAAI/AAAAAAAACKk/Ltm3uS4Ro_Y/s64/photo.jpg",
      "userId": "03470999733606021548"
     },
     "user_tz": -540
    },
    "id": "wX-sJEoBVrTM",
    "outputId": "9fb7cf07-8ff2-41b8-b643-4eb45584a495"
   },
   "outputs": [
    {
     "name": "stdout",
     "output_type": "stream",
     "text": [
      "Input\n",
      "[[ 1  1]\n",
      " [ 1 -1]\n",
      " [-1 -1]\n",
      " [-1  1]]\n",
      "Label\n",
      "[[0]\n",
      " [1]\n",
      " [0]\n",
      " [1]]\n",
      "Output\n",
      "[[0.5]\n",
      " [0.5]\n",
      " [0.5]\n",
      " [0.5]]\n",
      "Weight\n",
      "[[4.78223818e-17]\n",
      " [1.99093231e-16]]\n",
      "Bias\n",
      "[[-8.22738129e-17]]\n"
     ]
    }
   ],
   "source": [
    "print('Input')\n",
    "print(x)\n",
    "print('Label')\n",
    "print(y)\n",
    "print('Output')\n",
    "print(y_pred)\n",
    "print('Weight')\n",
    "print(wout)\n",
    "print('Bias')\n",
    "print(bout)"
   ]
  },
  {
   "cell_type": "markdown",
   "metadata": {
    "colab_type": "text",
    "id": "jvAAB3w0XLrK"
   },
   "source": [
    "XOR problem  \n",
    "with multi layer problem"
   ]
  },
  {
   "cell_type": "code",
   "execution_count": 16,
   "metadata": {
    "colab": {
     "base_uri": "https://localhost:8080/",
     "height": 119
    },
    "colab_type": "code",
    "executionInfo": {
     "elapsed": 3988,
     "status": "ok",
     "timestamp": 1579164582576,
     "user": {
      "displayName": "김영진",
      "photoUrl": "https://lh3.googleusercontent.com/a-/AAuE7mBqR41G9XnYH3XCALelFEG-6zz3qUAzPhR1M4qvAw=s64",
      "userId": "03470999733606021548"
     },
     "user_tz": -540
    },
    "id": "J8UFwr7UVvjc",
    "outputId": "724f458a-f203-40cc-a831-97e169eb9552"
   },
   "outputs": [
    {
     "name": "stdout",
     "output_type": "stream",
     "text": [
      "[[0.35575524 0.58199611]\n",
      " [0.19078171 0.56011897]]\n",
      "[[0.16992404 0.54374213]]\n",
      "[[0.26489022]\n",
      " [0.11454813]]\n",
      "[[0.42624283]]\n"
     ]
    }
   ],
   "source": [
    "epoch =5000 #number of training iterations\n",
    "learning_rate = 0.1\n",
    "\n",
    "# dimension of each layer\n",
    "d_in = x.shape[1] #number of features in the input dataset =2\n",
    "d_h = 2 #hidden layer dimension\n",
    "d_out = 1 #output layer dimension\n",
    "\n",
    "#wieght and bias initialization\n",
    "wh= np.random.uniform(size=(d_in, d_h)) #input-hidden weight\n",
    "bh= np.random.uniform(size=(1,d_h)) #input-hidden bias\n",
    "wout= np.random.uniform(size=(d_h, d_out)) #hidden-output weight\n",
    "bout= np.random.uniform(size=(1, d_out)) #hidden-output bias\n",
    "print(wh)\n",
    "print(bh)\n",
    "print(wout)\n",
    "print(bout)"
   ]
  },
  {
   "cell_type": "code",
   "execution_count": 17,
   "metadata": {
    "colab": {
     "base_uri": "https://localhost:8080/",
     "height": 187
    },
    "colab_type": "code",
    "executionInfo": {
     "elapsed": 2970,
     "status": "ok",
     "timestamp": 1579164605516,
     "user": {
      "displayName": "김영진",
      "photoUrl": "https://lh3.googleusercontent.com/a-/AAuE7mBqR41G9XnYH3XCALelFEG-6zz3qUAzPhR1M4qvAw=s64",
      "userId": "03470999733606021548"
     },
     "user_tz": -540
    },
    "id": "cePS--k0Y_4w",
    "outputId": "88b183e3-6ded-45bb-d299-266e8a47ab03"
   },
   "outputs": [
    {
     "name": "stdout",
     "output_type": "stream",
     "text": [
      "Epoch 0 : 1.0938105583215616\n",
      "Epoch 500 : 0.9974231446494211\n",
      "Epoch 1000 : 0.9936419789132035\n",
      "Epoch 1500 : 0.9903551166098459\n",
      "Epoch 2000 : 0.9878207989040815\n",
      "Epoch 2500 : 0.9859653777212578\n",
      "Epoch 3000 : 0.9845091031088351\n",
      "Epoch 3500 : 0.9830938881370372\n",
      "Epoch 4000 : 0.9813007058702643\n",
      "Epoch 4500 : 0.978812920561161\n"
     ]
    }
   ],
   "source": [
    "for i in range(epoch):\n",
    "  # Forward pass\n",
    "  h= sigmoid(x.dot(wh)+bh)\n",
    "  y_pred= sigmoid(h.dot(wout)+bout)\n",
    "  \n",
    "  #Compute and print loss\n",
    "  loss=np.square(y_pred-y)\n",
    "  if i%500 ==0 :\n",
    "    print('Epoch',i,':',loss.sum())\n",
    "  \n",
    "  #Backpropagation to compute gradients\n",
    "  grad_y_pred = (y-y_pred) * derivate_sigmoid(y_pred)\n",
    "  grad_wout=h.T.dot(grad_y_pred)\n",
    "  grad_bout=np.sum(grad_y_pred, axis=0, keepdims=True)\n",
    "  grad_h = grad_y_pred.dot(wout.T)*derivate_sigmoid(h)\n",
    "  grad_wh = x.T.dot(grad_h)\n",
    "  grad_bh = np.sum(grad_h, axis=0, keepdims=True)\n",
    "  \n",
    "  #Update weights and biases\n",
    "  wout += grad_wout*learning_rate\n",
    "  bout += grad_bout*learning_rate\n",
    "  wh += grad_wh*learning_rate\n",
    "  bh += grad_bh*learning_rate"
   ]
  },
  {
   "cell_type": "code",
   "execution_count": 18,
   "metadata": {
    "colab": {
     "base_uri": "https://localhost:8080/",
     "height": 442
    },
    "colab_type": "code",
    "executionInfo": {
     "elapsed": 2478,
     "status": "ok",
     "timestamp": 1579164610746,
     "user": {
      "displayName": "김영진",
      "photoUrl": "https://lh3.googleusercontent.com/a-/AAuE7mBqR41G9XnYH3XCALelFEG-6zz3qUAzPhR1M4qvAw=s64",
      "userId": "03470999733606021548"
     },
     "user_tz": -540
    },
    "id": "Bprb2tC_aQie",
    "outputId": "1761c238-6681-4ecf-b2e5-3d86c864dabf"
   },
   "outputs": [
    {
     "name": "stdout",
     "output_type": "stream",
     "text": [
      "Input\n",
      "[[ 1  1]\n",
      " [ 1 -1]\n",
      " [-1 -1]\n",
      " [-1  1]]\n",
      "Label\n",
      "[[0]\n",
      " [1]\n",
      " [0]\n",
      " [1]]\n",
      "Output\n",
      "[[0.5307457 ]\n",
      " [0.50092971]\n",
      " [0.45588632]\n",
      " [0.51335511]]\n",
      "Weight @ Hidden Layer\n",
      "[[0.69521694 0.62005375]\n",
      " [0.37309739 0.46481219]]\n",
      "Bias @ Hidden Layer\n",
      "[[0.06366126 0.59303424]]\n",
      "Weight @ Output Layer\n",
      "[[-1.13182429]\n",
      " [ 1.84076178]]\n",
      "Bias @ Output Layer\n",
      "[[-0.57205943]]\n"
     ]
    }
   ],
   "source": [
    "print('Input')\n",
    "print(x)\n",
    "print('Label')\n",
    "print(y)\n",
    "print('Output')\n",
    "print(y_pred)\n",
    "print('Weight @ Hidden Layer')\n",
    "print(wh)\n",
    "print('Bias @ Hidden Layer')\n",
    "print(bh)\n",
    "print('Weight @ Output Layer')\n",
    "print(wout)\n",
    "print('Bias @ Output Layer')\n",
    "print(bout)"
   ]
  },
  {
   "cell_type": "markdown",
   "metadata": {
    "colab_type": "text",
    "id": "nssnBigdkB2I"
   },
   "source": [
    "Solve XOR problem using Keras"
   ]
  },
  {
   "cell_type": "code",
   "execution_count": 20,
   "metadata": {
    "colab": {
     "base_uri": "https://localhost:8080/",
     "height": 97
    },
    "colab_type": "code",
    "executionInfo": {
     "elapsed": 4122,
     "status": "ok",
     "timestamp": 1579165480030,
     "user": {
      "displayName": "김영진",
      "photoUrl": "https://lh3.googleusercontent.com/a-/AAuE7mBqR41G9XnYH3XCALelFEG-6zz3qUAzPhR1M4qvAw=s64",
      "userId": "03470999733606021548"
     },
     "user_tz": -540
    },
    "id": "nsOSselnalU6",
    "outputId": "2fccb35c-79b0-4857-8aa9-54c8b31c45ea"
   },
   "outputs": [],
   "source": [
    "import numpy as np\n",
    "import keras\n",
    "from keras.layers import Dense\n",
    "from keras.utils.vis_utils import model_to_dot\n",
    "from IPython.display import SVG\n"
   ]
  },
  {
   "cell_type": "code",
   "execution_count": 21,
   "metadata": {
    "colab": {
     "base_uri": "https://localhost:8080/",
     "height": 139
    },
    "colab_type": "code",
    "executionInfo": {
     "elapsed": 4099,
     "status": "ok",
     "timestamp": 1579165480031,
     "user": {
      "displayName": "김영진",
      "photoUrl": "https://lh3.googleusercontent.com/a-/AAuE7mBqR41G9XnYH3XCALelFEG-6zz3qUAzPhR1M4qvAw=s64",
      "userId": "03470999733606021548"
     },
     "user_tz": -540
    },
    "id": "MwovZK60kFGj",
    "outputId": "36516b62-b564-401d-ca93-a197d3816182"
   },
   "outputs": [],
   "source": [
    "model = keras.Sequential()\n",
    "model.add(Dense(2, activation='sigmoid', input_dim=2))\n",
    "model.add(Dense(1, activation='sigmoid'))"
   ]
  },
  {
   "cell_type": "code",
   "execution_count": 22,
   "metadata": {
    "colab": {
     "base_uri": "https://localhost:8080/",
     "height": 288
    },
    "colab_type": "code",
    "executionInfo": {
     "elapsed": 4093,
     "status": "ok",
     "timestamp": 1579165480033,
     "user": {
      "displayName": "김영진",
      "photoUrl": "https://lh3.googleusercontent.com/a-/AAuE7mBqR41G9XnYH3XCALelFEG-6zz3qUAzPhR1M4qvAw=s64",
      "userId": "03470999733606021548"
     },
     "user_tz": -540
    },
    "id": "UhAKatwakKNY",
    "outputId": "28644cee-cf3f-4993-e60d-30b617c6d30d"
   },
   "outputs": [
    {
     "ename": "ImportError",
     "evalue": "Failed to import `pydot`. Please install `pydot`. For example with `pip install pydot`.",
     "output_type": "error",
     "traceback": [
      "\u001b[0;31m---------------------------------------------------------------------------\u001b[0m",
      "\u001b[0;31mImportError\u001b[0m                               Traceback (most recent call last)",
      "\u001b[0;32m<ipython-input-22-ae8dd4b84ca9>\u001b[0m in \u001b[0;36m<module>\u001b[0;34m\u001b[0m\n\u001b[0;32m----> 1\u001b[0;31m \u001b[0mSVG\u001b[0m\u001b[0;34m(\u001b[0m\u001b[0mmodel_to_dot\u001b[0m\u001b[0;34m(\u001b[0m\u001b[0mmodel\u001b[0m\u001b[0;34m,\u001b[0m \u001b[0mshow_shapes\u001b[0m\u001b[0;34m=\u001b[0m\u001b[0;32mTrue\u001b[0m\u001b[0;34m,\u001b[0m\u001b[0mdpi\u001b[0m\u001b[0;34m=\u001b[0m\u001b[0;36m65\u001b[0m\u001b[0;34m)\u001b[0m\u001b[0;34m.\u001b[0m\u001b[0mcreate\u001b[0m\u001b[0;34m(\u001b[0m\u001b[0mprog\u001b[0m\u001b[0;34m=\u001b[0m\u001b[0;34m'dot'\u001b[0m\u001b[0;34m,\u001b[0m \u001b[0mformat\u001b[0m\u001b[0;34m=\u001b[0m\u001b[0;34m'svg'\u001b[0m\u001b[0;34m)\u001b[0m\u001b[0;34m)\u001b[0m\u001b[0;34m\u001b[0m\u001b[0;34m\u001b[0m\u001b[0m\n\u001b[0m",
      "\u001b[0;32m~/.local/lib/python3.7/site-packages/keras/utils/vis_utils.py\u001b[0m in \u001b[0;36mmodel_to_dot\u001b[0;34m(model, show_shapes, show_layer_names, rankdir, expand_nested, dpi, subgraph)\u001b[0m\n\u001b[1;32m     77\u001b[0m     \u001b[0;32mfrom\u001b[0m \u001b[0;34m.\u001b[0m\u001b[0;34m.\u001b[0m\u001b[0mmodels\u001b[0m \u001b[0;32mimport\u001b[0m \u001b[0mSequential\u001b[0m\u001b[0;34m\u001b[0m\u001b[0;34m\u001b[0m\u001b[0m\n\u001b[1;32m     78\u001b[0m \u001b[0;34m\u001b[0m\u001b[0m\n\u001b[0;32m---> 79\u001b[0;31m     \u001b[0m_check_pydot\u001b[0m\u001b[0;34m(\u001b[0m\u001b[0;34m)\u001b[0m\u001b[0;34m\u001b[0m\u001b[0;34m\u001b[0m\u001b[0m\n\u001b[0m\u001b[1;32m     80\u001b[0m     \u001b[0;32mif\u001b[0m \u001b[0msubgraph\u001b[0m\u001b[0;34m:\u001b[0m\u001b[0;34m\u001b[0m\u001b[0;34m\u001b[0m\u001b[0m\n\u001b[1;32m     81\u001b[0m         \u001b[0mdot\u001b[0m \u001b[0;34m=\u001b[0m \u001b[0mpydot\u001b[0m\u001b[0;34m.\u001b[0m\u001b[0mCluster\u001b[0m\u001b[0;34m(\u001b[0m\u001b[0mstyle\u001b[0m\u001b[0;34m=\u001b[0m\u001b[0;34m'dashed'\u001b[0m\u001b[0;34m,\u001b[0m \u001b[0mgraph_name\u001b[0m\u001b[0;34m=\u001b[0m\u001b[0mmodel\u001b[0m\u001b[0;34m.\u001b[0m\u001b[0mname\u001b[0m\u001b[0;34m)\u001b[0m\u001b[0;34m\u001b[0m\u001b[0;34m\u001b[0m\u001b[0m\n",
      "\u001b[0;32m~/.local/lib/python3.7/site-packages/keras/utils/vis_utils.py\u001b[0m in \u001b[0;36m_check_pydot\u001b[0;34m()\u001b[0m\n\u001b[1;32m     20\u001b[0m     \u001b[0;32mif\u001b[0m \u001b[0mpydot\u001b[0m \u001b[0;32mis\u001b[0m \u001b[0;32mNone\u001b[0m\u001b[0;34m:\u001b[0m\u001b[0;34m\u001b[0m\u001b[0;34m\u001b[0m\u001b[0m\n\u001b[1;32m     21\u001b[0m         raise ImportError(\n\u001b[0;32m---> 22\u001b[0;31m             \u001b[0;34m'Failed to import `pydot`. '\u001b[0m\u001b[0;34m\u001b[0m\u001b[0;34m\u001b[0m\u001b[0m\n\u001b[0m\u001b[1;32m     23\u001b[0m             \u001b[0;34m'Please install `pydot`. '\u001b[0m\u001b[0;34m\u001b[0m\u001b[0;34m\u001b[0m\u001b[0m\n\u001b[1;32m     24\u001b[0m             'For example with `pip install pydot`.')\n",
      "\u001b[0;31mImportError\u001b[0m: Failed to import `pydot`. Please install `pydot`. For example with `pip install pydot`."
     ]
    }
   ],
   "source": [
    "SVG(model_to_dot(model, show_shapes=True,dpi=65).create(prog='dot', format='svg'))"
   ]
  },
  {
   "cell_type": "code",
   "execution_count": 23,
   "metadata": {
    "colab": {},
    "colab_type": "code",
    "id": "S4k9JMvXk2_2"
   },
   "outputs": [],
   "source": [
    "#input\n",
    "x=np.array([[1,1],[1,-1],[-1,-1],[-1,1]])\n",
    "#output\n",
    "y=np.array([[0],[1],[0],[1]]) #labels of each input\n",
    "learning_rate=.1\n",
    "epoch=50000"
   ]
  },
  {
   "cell_type": "code",
   "execution_count": 24,
   "metadata": {
    "colab": {},
    "colab_type": "code",
    "id": "DO2RTdRzlWA7"
   },
   "outputs": [],
   "source": [
    "optimizer = keras.optimizers.SGD(lr=learning_rate)"
   ]
  },
  {
   "cell_type": "code",
   "execution_count": 25,
   "metadata": {
    "colab": {},
    "colab_type": "code",
    "id": "aanA0CFplaV1"
   },
   "outputs": [],
   "source": [
    "model.compile(loss=keras.losses.mean_squared_error,\n",
    "             optimizer=optimizer,\n",
    "             metrics=['accuracy'])"
   ]
  },
  {
   "cell_type": "code",
   "execution_count": null,
   "metadata": {
    "colab": {
     "base_uri": "https://localhost:8080/",
     "height": 34
    },
    "colab_type": "code",
    "executionInfo": {
     "elapsed": 95811,
     "status": "ok",
     "timestamp": 1579165667743,
     "user": {
      "displayName": "김영진",
      "photoUrl": "https://lh3.googleusercontent.com/a-/AAuE7mBqR41G9XnYH3XCALelFEG-6zz3qUAzPhR1M4qvAw=s64",
      "userId": "03470999733606021548"
     },
     "user_tz": -540
    },
    "id": "zZTk02OSlg1L",
    "outputId": "83e1337e-5618-40f3-fd16-5d27cf0dac7f"
   },
   "outputs": [],
   "source": [
    "model.fit(x,y,epochs=epoch, verbose=0)"
   ]
  },
  {
   "cell_type": "code",
   "execution_count": 0,
   "metadata": {
    "colab": {
     "base_uri": "https://localhost:8080/",
     "height": 51
    },
    "colab_type": "code",
    "executionInfo": {
     "elapsed": 87757,
     "status": "ok",
     "timestamp": 1579165667744,
     "user": {
      "displayName": "김영진",
      "photoUrl": "https://lh3.googleusercontent.com/a-/AAuE7mBqR41G9XnYH3XCALelFEG-6zz3qUAzPhR1M4qvAw=s64",
      "userId": "03470999733606021548"
     },
     "user_tz": -540
    },
    "id": "X1P2kqbUdUXP",
    "outputId": "ed340f31-641d-46a8-a1c4-870aa957c0ea"
   },
   "outputs": [
    {
     "name": "stdout",
     "output_type": "stream",
     "text": [
      "Loss: 0.0005494350334629416\n",
      "Accuracy: 1.0\n"
     ]
    }
   ],
   "source": [
    "score= model.evaluate(x,y,verbose=0)\n",
    "print('Loss:', score[0])\n",
    "print('Accuracy:',score[1])"
   ]
  },
  {
   "cell_type": "code",
   "execution_count": 0,
   "metadata": {
    "colab": {},
    "colab_type": "code",
    "id": "Fo2qT8dcd60U"
   },
   "outputs": [],
   "source": [
    "y_pred=model.predict(x)"
   ]
  },
  {
   "cell_type": "code",
   "execution_count": 0,
   "metadata": {
    "colab": {
     "base_uri": "https://localhost:8080/",
     "height": 272
    },
    "colab_type": "code",
    "executionInfo": {
     "elapsed": 86381,
     "status": "ok",
     "timestamp": 1579165667747,
     "user": {
      "displayName": "김영진",
      "photoUrl": "https://lh3.googleusercontent.com/a-/AAuE7mBqR41G9XnYH3XCALelFEG-6zz3qUAzPhR1M4qvAw=s64",
      "userId": "03470999733606021548"
     },
     "user_tz": -540
    },
    "id": "oeSSxtG3d9-p",
    "outputId": "bbeb7036-e8e9-4f09-a8a4-1b50291371a0"
   },
   "outputs": [
    {
     "name": "stdout",
     "output_type": "stream",
     "text": [
      "Input\n",
      "[[ 1  1]\n",
      " [ 1 -1]\n",
      " [-1 -1]\n",
      " [-1  1]]\n",
      "Label\n",
      "[[0]\n",
      " [1]\n",
      " [0]\n",
      " [1]]\n",
      "Output\n",
      "[[0.02213582]\n",
      " [0.9730215 ]\n",
      " [0.02213565]\n",
      " [0.9778659 ]]\n"
     ]
    }
   ],
   "source": [
    "print('Input')\n",
    "print(x)\n",
    "print('Label')\n",
    "print(y)\n",
    "print('Output')\n",
    "print(y_pred)"
   ]
  },
  {
   "cell_type": "code",
   "execution_count": 0,
   "metadata": {
    "colab": {},
    "colab_type": "code",
    "id": "lvvbBEvzeEMe"
   },
   "outputs": [],
   "source": []
  }
 ],
 "metadata": {
  "accelerator": "GPU",
  "colab": {
   "collapsed_sections": [],
   "name": "01.And_OR.ipynb",
   "provenance": []
  },
  "kernelspec": {
   "display_name": "Python 3",
   "language": "python",
   "name": "python3"
  },
  "language_info": {
   "codemirror_mode": {
    "name": "ipython",
    "version": 3
   },
   "file_extension": ".py",
   "mimetype": "text/x-python",
   "name": "python",
   "nbconvert_exporter": "python",
   "pygments_lexer": "ipython3",
   "version": "3.7.6"
  }
 },
 "nbformat": 4,
 "nbformat_minor": 1
}
